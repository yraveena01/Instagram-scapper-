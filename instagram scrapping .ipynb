{
 "cells": [
  {
   "cell_type": "code",
   "execution_count": null,
   "id": "03476aef",
   "metadata": {},
   "outputs": [],
   "source": [
    "import instaloader "
   ]
  },
  {
   "cell_type": "code",
   "execution_count": null,
   "id": "798547d0",
   "metadata": {},
   "outputs": [],
   "source": [
    "bot = instaloader.Instaloader()"
   ]
  },
  {
   "cell_type": "code",
   "execution_count": null,
   "id": "6e56df38",
   "metadata": {},
   "outputs": [],
   "source": [
    "#replace your instagram username where\"yraveena_01\"\n",
    "\n",
    "profile = instaloader.Profile.from_username(bot.context, 'yraveena_01')\n",
    "\n",
    "print(type(profile))\n",
    "\n",
    "print(\"Username: \", profile.username)\n",
    "print(\"User ID: \", profile.userid)\n",
    "print(\"Number of Posts: \", profile.mediacount)\n",
    "print(\"Followers: \", profile.followers)\n",
    "print(\"Followees: \", profile.followees)\n",
    "print(\"Bio: \", profile.biography,profile.external_url)"
   ]
  },
  {
   "cell_type": "code",
   "execution_count": null,
   "id": "b1bc9f8d",
   "metadata": {},
   "outputs": [],
   "source": [
    "profile = instaloader.Profile.from_username(bot.context, 'yraveena_01')"
   ]
  },
  {
   "cell_type": "code",
   "execution_count": null,
   "id": "4d09f720",
   "metadata": {},
   "outputs": [],
   "source": [
    "posts = profile.get_posts()\n",
    "\n",
    "# Iterate and download\n",
    "for index, post in enumerate(posts, 1):\n",
    "    bot.download_post(post, target=f\"{profile.username}_{index}\")"
   ]
  },
  {
   "cell_type": "code",
   "execution_count": null,
   "id": "bbb0b5f4",
   "metadata": {},
   "outputs": [],
   "source": []
  }
 ],
 "metadata": {
  "kernelspec": {
   "display_name": "Python 3 (ipykernel)",
   "language": "python",
   "name": "python3"
  },
  "language_info": {
   "codemirror_mode": {
    "name": "ipython",
    "version": 3
   },
   "file_extension": ".py",
   "mimetype": "text/x-python",
   "name": "python",
   "nbconvert_exporter": "python",
   "pygments_lexer": "ipython3",
   "version": "3.10.9"
  }
 },
 "nbformat": 4,
 "nbformat_minor": 5
}
